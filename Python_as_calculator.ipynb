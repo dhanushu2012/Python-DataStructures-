{
  "nbformat": 4,
  "nbformat_minor": 0,
  "metadata": {
    "colab": {
      "name": "Python_as_calculator.ipynb",
      "provenance": [],
      "collapsed_sections": [],
      "include_colab_link": true
    },
    "kernelspec": {
      "name": "python3",
      "display_name": "Python 3"
    }
  },
  "cells": [
    {
      "cell_type": "markdown",
      "metadata": {
        "id": "view-in-github",
        "colab_type": "text"
      },
      "source": [
        "<a href=\"https://colab.research.google.com/github/dhanushu2012/Python-DataStructures-/blob/master/Python_as_calculator.ipynb\" target=\"_parent\"><img src=\"https://colab.research.google.com/assets/colab-badge.svg\" alt=\"Open In Colab\"/></a>"
      ]
    },
    {
      "cell_type": "code",
      "metadata": {
        "id": "E8GJoDnH6y_Q",
        "colab_type": "code",
        "colab": {
          "base_uri": "https://localhost:8080/",
          "height": 34
        },
        "outputId": "dd746c26-eb64-480e-fbcd-5cff39562c20"
      },
      "source": [
        "2+2"
      ],
      "execution_count": 1,
      "outputs": [
        {
          "output_type": "execute_result",
          "data": {
            "text/plain": [
              "4"
            ]
          },
          "metadata": {
            "tags": []
          },
          "execution_count": 1
        }
      ]
    },
    {
      "cell_type": "code",
      "metadata": {
        "id": "8k-w8nl367jg",
        "colab_type": "code",
        "colab": {
          "base_uri": "https://localhost:8080/",
          "height": 34
        },
        "outputId": "a4110345-1518-4a03-d06c-c0137e55d35c"
      },
      "source": [
        "50-5*6"
      ],
      "execution_count": 2,
      "outputs": [
        {
          "output_type": "execute_result",
          "data": {
            "text/plain": [
              "20"
            ]
          },
          "metadata": {
            "tags": []
          },
          "execution_count": 2
        }
      ]
    },
    {
      "cell_type": "code",
      "metadata": {
        "id": "ja__oJlR6_tp",
        "colab_type": "code",
        "colab": {
          "base_uri": "https://localhost:8080/",
          "height": 34
        },
        "outputId": "d0f32634-f74b-43b4-fba5-e334b44c1d2a"
      },
      "source": [
        "50 - 5*6"
      ],
      "execution_count": 3,
      "outputs": [
        {
          "output_type": "execute_result",
          "data": {
            "text/plain": [
              "20"
            ]
          },
          "metadata": {
            "tags": []
          },
          "execution_count": 3
        }
      ]
    },
    {
      "cell_type": "code",
      "metadata": {
        "id": "3mwk65E_7ITe",
        "colab_type": "code",
        "colab": {
          "base_uri": "https://localhost:8080/",
          "height": 34
        },
        "outputId": "ecbe3aa1-ec63-488e-d5c9-2aff1a897f61"
      },
      "source": [
        "#parentheses (()) can be used for grouping.\n",
        "(50 - 5*6)/4"
      ],
      "execution_count": 4,
      "outputs": [
        {
          "output_type": "execute_result",
          "data": {
            "text/plain": [
              "5.0"
            ]
          },
          "metadata": {
            "tags": []
          },
          "execution_count": 4
        }
      ]
    },
    {
      "cell_type": "code",
      "metadata": {
        "id": "ON5JG-id7ZLg",
        "colab_type": "code",
        "colab": {
          "base_uri": "https://localhost:8080/",
          "height": 34
        },
        "outputId": "99ffb612-71cb-4f4f-db7f-867f7bfb9d40"
      },
      "source": [
        "8/5"
      ],
      "execution_count": 5,
      "outputs": [
        {
          "output_type": "execute_result",
          "data": {
            "text/plain": [
              "1.6"
            ]
          },
          "metadata": {
            "tags": []
          },
          "execution_count": 5
        }
      ]
    },
    {
      "cell_type": "code",
      "metadata": {
        "id": "W0I8R8Ey7a1U",
        "colab_type": "code",
        "colab": {
          "base_uri": "https://localhost:8080/",
          "height": 34
        },
        "outputId": "adbc6dce-a372-4a15-fe41-7325a4f7e30d"
      },
      "source": [
        "#The integer numbers (e.g. 2, 4, 20) have type int, the ones with a fractional part (e.g. 5.0, 1.6) have type float     \n",
        "#Division (/) always returns a float. To do floor division and get an integer result (discarding any fractional result) you can use the // operator; \n",
        "#to calculate the remainder you can use %:\n",
        "17 / 3  # classic division returns a float"
      ],
      "execution_count": 6,
      "outputs": [
        {
          "output_type": "execute_result",
          "data": {
            "text/plain": [
              "5.666666666666667"
            ]
          },
          "metadata": {
            "tags": []
          },
          "execution_count": 6
        }
      ]
    },
    {
      "cell_type": "code",
      "metadata": {
        "id": "i9owo-5P8Sx2",
        "colab_type": "code",
        "colab": {
          "base_uri": "https://localhost:8080/",
          "height": 34
        },
        "outputId": "d684c9f7-cd5c-436e-bea6-dd0b45f1dd51"
      },
      "source": [
        "17 // 3  # floor division discards the fractional part"
      ],
      "execution_count": 7,
      "outputs": [
        {
          "output_type": "execute_result",
          "data": {
            "text/plain": [
              "5"
            ]
          },
          "metadata": {
            "tags": []
          },
          "execution_count": 7
        }
      ]
    },
    {
      "cell_type": "code",
      "metadata": {
        "id": "cCeLyHGR8Wmm",
        "colab_type": "code",
        "colab": {
          "base_uri": "https://localhost:8080/",
          "height": 34
        },
        "outputId": "f9153913-8e14-4651-aaec-58a3eedc0840"
      },
      "source": [
        "17 % 3  # the % operator returns the remainder of the division"
      ],
      "execution_count": 8,
      "outputs": [
        {
          "output_type": "execute_result",
          "data": {
            "text/plain": [
              "2"
            ]
          },
          "metadata": {
            "tags": []
          },
          "execution_count": 8
        }
      ]
    },
    {
      "cell_type": "code",
      "metadata": {
        "id": "81_2yQW_8bW-",
        "colab_type": "code",
        "colab": {
          "base_uri": "https://localhost:8080/",
          "height": 34
        },
        "outputId": "b0db2f3b-3d95-4eca-8926-c1357aee1cb1"
      },
      "source": [
        "5 * 3 + 2  # result * divisor + remainder"
      ],
      "execution_count": 9,
      "outputs": [
        {
          "output_type": "execute_result",
          "data": {
            "text/plain": [
              "17"
            ]
          },
          "metadata": {
            "tags": []
          },
          "execution_count": 9
        }
      ]
    },
    {
      "cell_type": "code",
      "metadata": {
        "id": "LMtRQY5v8iwX",
        "colab_type": "code",
        "colab": {
          "base_uri": "https://localhost:8080/",
          "height": 34
        },
        "outputId": "03b96491-ffbc-4ad2-e0c7-7cee5add1ec4"
      },
      "source": [
        "5 ** 2  # 5 squared"
      ],
      "execution_count": 10,
      "outputs": [
        {
          "output_type": "execute_result",
          "data": {
            "text/plain": [
              "25"
            ]
          },
          "metadata": {
            "tags": []
          },
          "execution_count": 10
        }
      ]
    },
    {
      "cell_type": "code",
      "metadata": {
        "id": "IW589awa8lI0",
        "colab_type": "code",
        "colab": {
          "base_uri": "https://localhost:8080/",
          "height": 34
        },
        "outputId": "bc2bfdff-817d-43bd-afaf-d44788e546aa"
      },
      "source": [
        "2 ** 7  # 2 to the power of 7"
      ],
      "execution_count": 11,
      "outputs": [
        {
          "output_type": "execute_result",
          "data": {
            "text/plain": [
              "128"
            ]
          },
          "metadata": {
            "tags": []
          },
          "execution_count": 11
        }
      ]
    },
    {
      "cell_type": "code",
      "metadata": {
        "id": "s-6m7Cww8n0Q",
        "colab_type": "code",
        "colab": {
          "base_uri": "https://localhost:8080/",
          "height": 34
        },
        "outputId": "a69d1798-9a09-48fa-9478-b342b85ec651"
      },
      "source": [
        "width = 20\n",
        "height = 5 * 9\n",
        "width * height "
      ],
      "execution_count": 12,
      "outputs": [
        {
          "output_type": "execute_result",
          "data": {
            "text/plain": [
              "900"
            ]
          },
          "metadata": {
            "tags": []
          },
          "execution_count": 12
        }
      ]
    },
    {
      "cell_type": "code",
      "metadata": {
        "id": "mzoDKJV5873l",
        "colab_type": "code",
        "colab": {
          "base_uri": "https://localhost:8080/",
          "height": 167
        },
        "outputId": "06d35b36-fb05-4d46-f992-6f9f51de6f44"
      },
      "source": [
        "#If a variable is not “defined” (assigned a value), trying to use it will give you an error:\n",
        "n"
      ],
      "execution_count": 13,
      "outputs": [
        {
          "output_type": "error",
          "ename": "NameError",
          "evalue": "ignored",
          "traceback": [
            "\u001b[0;31m---------------------------------------------------------------------------\u001b[0m",
            "\u001b[0;31mNameError\u001b[0m                                 Traceback (most recent call last)",
            "\u001b[0;32m<ipython-input-13-ab0680a89434>\u001b[0m in \u001b[0;36m<module>\u001b[0;34m()\u001b[0m\n\u001b[0;32m----> 1\u001b[0;31m \u001b[0mn\u001b[0m\u001b[0;34m\u001b[0m\u001b[0;34m\u001b[0m\u001b[0m\n\u001b[0m",
            "\u001b[0;31mNameError\u001b[0m: name 'n' is not defined"
          ]
        }
      ]
    },
    {
      "cell_type": "code",
      "metadata": {
        "id": "lt6XABx79A3F",
        "colab_type": "code",
        "colab": {
          "base_uri": "https://localhost:8080/",
          "height": 34
        },
        "outputId": "d0f1a1b5-7a02-4ed9-8370-4c1e172a2138"
      },
      "source": [
        "4 * 3.75 - 1 "
      ],
      "execution_count": 14,
      "outputs": [
        {
          "output_type": "execute_result",
          "data": {
            "text/plain": [
              "14.0"
            ]
          },
          "metadata": {
            "tags": []
          },
          "execution_count": 14
        }
      ]
    },
    {
      "cell_type": "code",
      "metadata": {
        "id": "z7R7SQP69MLI",
        "colab_type": "code",
        "colab": {
          "base_uri": "https://localhost:8080/",
          "height": 34
        },
        "outputId": "85e2746c-e85e-444c-9c97-b94a1e9d7bb0"
      },
      "source": [
        "tax = 12.5 / 100\n",
        "tax"
      ],
      "execution_count": 19,
      "outputs": [
        {
          "output_type": "execute_result",
          "data": {
            "text/plain": [
              "0.125"
            ]
          },
          "metadata": {
            "tags": []
          },
          "execution_count": 19
        }
      ]
    },
    {
      "cell_type": "code",
      "metadata": {
        "id": "8-Qa_VP29isC",
        "colab_type": "code",
        "colab": {
          "base_uri": "https://localhost:8080/",
          "height": 34
        },
        "outputId": "23b33db3-0577-4885-bdd3-2b10deb4d277"
      },
      "source": [
        "price = 100.50\n",
        "price * tax \n",
        "#the last printed expression is assigned to the variable _. This means that when you are using Python as a desk calculator, it is somewhat easier to continue calculations"
      ],
      "execution_count": 20,
      "outputs": [
        {
          "output_type": "execute_result",
          "data": {
            "text/plain": [
              "12.5625"
            ]
          },
          "metadata": {
            "tags": []
          },
          "execution_count": 20
        }
      ]
    },
    {
      "cell_type": "code",
      "metadata": {
        "id": "M1_hB5Ev96RI",
        "colab_type": "code",
        "colab": {
          "base_uri": "https://localhost:8080/",
          "height": 34
        },
        "outputId": "a40426f4-1330-4fd0-81f9-c8538c831abc"
      },
      "source": [
        "#This variable should be treated as read-only by the user. Don’t explicitly assign a value to it — \n",
        "#you would create an independent local variable with the same name masking the built-in variable with its magic behavior.\n",
        "price+_"
      ],
      "execution_count": 21,
      "outputs": [
        {
          "output_type": "execute_result",
          "data": {
            "text/plain": [
              "113.0625"
            ]
          },
          "metadata": {
            "tags": []
          },
          "execution_count": 21
        }
      ]
    },
    {
      "cell_type": "code",
      "metadata": {
        "id": "egS5ZhBC98v3",
        "colab_type": "code",
        "colab": {
          "base_uri": "https://localhost:8080/",
          "height": 34
        },
        "outputId": "6ccd9514-7969-467b-b829-a605b163becb"
      },
      "source": [
        "round(_, 2)"
      ],
      "execution_count": 22,
      "outputs": [
        {
          "output_type": "execute_result",
          "data": {
            "text/plain": [
              "113.06"
            ]
          },
          "metadata": {
            "tags": []
          },
          "execution_count": 22
        }
      ]
    },
    {
      "cell_type": "code",
      "metadata": {
        "id": "oeIrseLR9_vU",
        "colab_type": "code",
        "colab": {
          "base_uri": "https://localhost:8080/",
          "height": 34
        },
        "outputId": "4ded4554-e2fa-4ecb-e034-e28c98ee082b"
      },
      "source": [
        "'spam eggs' # single quotes \n",
        "'doesn\\'t'  # use \\' to escape the single quote..."
      ],
      "execution_count": 25,
      "outputs": [
        {
          "output_type": "execute_result",
          "data": {
            "text/plain": [
              "\"doesn't\""
            ]
          },
          "metadata": {
            "tags": []
          },
          "execution_count": 25
        }
      ]
    },
    {
      "cell_type": "code",
      "metadata": {
        "id": "hyAZV8ws_DHy",
        "colab_type": "code",
        "colab": {
          "base_uri": "https://localhost:8080/",
          "height": 34
        },
        "outputId": "0433e7f7-53b0-415a-f874-c0cef7907ce4"
      },
      "source": [
        "\"doesn't\" #...or use double quotes instead"
      ],
      "execution_count": 26,
      "outputs": [
        {
          "output_type": "execute_result",
          "data": {
            "text/plain": [
              "\"doesn't\""
            ]
          },
          "metadata": {
            "tags": []
          },
          "execution_count": 26
        }
      ]
    },
    {
      "cell_type": "code",
      "metadata": {
        "id": "tl25idWe_Zhg",
        "colab_type": "code",
        "colab": {
          "base_uri": "https://localhost:8080/",
          "height": 34
        },
        "outputId": "9cd16fb8-5afb-4a34-edeb-00d1a84cdffd"
      },
      "source": [
        "'\"Yes,\" they said.'"
      ],
      "execution_count": 28,
      "outputs": [
        {
          "output_type": "execute_result",
          "data": {
            "text/plain": [
              "'\"Yes,\" they said.'"
            ]
          },
          "metadata": {
            "tags": []
          },
          "execution_count": 28
        }
      ]
    },
    {
      "cell_type": "code",
      "metadata": {
        "id": "kZXFdMdf_lES",
        "colab_type": "code",
        "colab": {
          "base_uri": "https://localhost:8080/",
          "height": 34
        },
        "outputId": "e56fdea6-8509-4ce3-b870-daeb7da75889"
      },
      "source": [
        "\"\\\"Yes,\\\" they said.\""
      ],
      "execution_count": 29,
      "outputs": [
        {
          "output_type": "execute_result",
          "data": {
            "text/plain": [
              "'\"Yes,\" they said.'"
            ]
          },
          "metadata": {
            "tags": []
          },
          "execution_count": 29
        }
      ]
    },
    {
      "cell_type": "code",
      "metadata": {
        "id": "mCWicYj5_rbh",
        "colab_type": "code",
        "colab": {
          "base_uri": "https://localhost:8080/",
          "height": 34
        },
        "outputId": "680c33d9-9909-4adb-e673-0b1e7ffe9160"
      },
      "source": [
        "'\"Isn\\'t,\" they said.'"
      ],
      "execution_count": 30,
      "outputs": [
        {
          "output_type": "execute_result",
          "data": {
            "text/plain": [
              "'\"Isn\\'t,\" they said.'"
            ]
          },
          "metadata": {
            "tags": []
          },
          "execution_count": 30
        }
      ]
    },
    {
      "cell_type": "code",
      "metadata": {
        "id": "3Xej9CGC_sBm",
        "colab_type": "code",
        "colab": {
          "base_uri": "https://localhost:8080/",
          "height": 34
        },
        "outputId": "24420be2-c525-4598-a805-5c22c87fd2ac"
      },
      "source": [
        "'\"Isn\\'t,\" they said.'"
      ],
      "execution_count": 31,
      "outputs": [
        {
          "output_type": "execute_result",
          "data": {
            "text/plain": [
              "'\"Isn\\'t,\" they said.'"
            ]
          },
          "metadata": {
            "tags": []
          },
          "execution_count": 31
        }
      ]
    },
    {
      "cell_type": "code",
      "metadata": {
        "id": "G6z3JMF2AB4A",
        "colab_type": "code",
        "colab": {
          "base_uri": "https://localhost:8080/",
          "height": 34
        },
        "outputId": "2097a456-93d4-40da-d3c6-7919d6929db5"
      },
      "source": [
        "print('\"Isn\\'t,\" they said.')"
      ],
      "execution_count": 32,
      "outputs": [
        {
          "output_type": "stream",
          "text": [
            "\"Isn't,\" they said.\n"
          ],
          "name": "stdout"
        }
      ]
    },
    {
      "cell_type": "code",
      "metadata": {
        "id": "BZZ87fKWAEQC",
        "colab_type": "code",
        "colab": {}
      },
      "source": [
        "s = 'First line.\\nSecond line.'  # \\n means newline"
      ],
      "execution_count": 0,
      "outputs": []
    },
    {
      "cell_type": "code",
      "metadata": {
        "id": "ext8ztVaAHQ1",
        "colab_type": "code",
        "colab": {
          "base_uri": "https://localhost:8080/",
          "height": 34
        },
        "outputId": "2c2a052c-5517-44f8-edff-cb91c72c92eb"
      },
      "source": [
        "s  # without print(), \\n is included in the output"
      ],
      "execution_count": 34,
      "outputs": [
        {
          "output_type": "execute_result",
          "data": {
            "text/plain": [
              "'First line.\\nSecond line.'"
            ]
          },
          "metadata": {
            "tags": []
          },
          "execution_count": 34
        }
      ]
    },
    {
      "cell_type": "code",
      "metadata": {
        "id": "c8t_71TeAKwa",
        "colab_type": "code",
        "colab": {
          "base_uri": "https://localhost:8080/",
          "height": 52
        },
        "outputId": "79b5862e-92d1-402c-827c-6b20f0577a37"
      },
      "source": [
        "print(s)"
      ],
      "execution_count": 35,
      "outputs": [
        {
          "output_type": "stream",
          "text": [
            "First line.\n",
            "Second line.\n"
          ],
          "name": "stdout"
        }
      ]
    },
    {
      "cell_type": "code",
      "metadata": {
        "id": "F2fDeEZ-ANxT",
        "colab_type": "code",
        "colab": {}
      },
      "source": [
        "import math"
      ],
      "execution_count": 0,
      "outputs": []
    },
    {
      "cell_type": "code",
      "metadata": {
        "id": "2DHTO6HaVU92",
        "colab_type": "code",
        "colab": {
          "base_uri": "https://localhost:8080/",
          "height": 34
        },
        "outputId": "fe16c055-6d64-48db-ffe9-895eaf42309c"
      },
      "source": [
        "print(math.e)"
      ],
      "execution_count": 37,
      "outputs": [
        {
          "output_type": "stream",
          "text": [
            "2.718281828459045\n"
          ],
          "name": "stdout"
        }
      ]
    },
    {
      "cell_type": "code",
      "metadata": {
        "id": "Y70vzpJXVYgA",
        "colab_type": "code",
        "colab": {
          "base_uri": "https://localhost:8080/",
          "height": 34
        },
        "outputId": "9ebf4cc9-59e9-4ee0-a00b-f8e5c5984448"
      },
      "source": [
        "a=13\n",
        "b=23\n",
        "a+b"
      ],
      "execution_count": 38,
      "outputs": [
        {
          "output_type": "execute_result",
          "data": {
            "text/plain": [
              "36"
            ]
          },
          "metadata": {
            "tags": []
          },
          "execution_count": 38
        }
      ]
    },
    {
      "cell_type": "code",
      "metadata": {
        "id": "kfuLHZXpVjY0",
        "colab_type": "code",
        "colab": {
          "base_uri": "https://localhost:8080/",
          "height": 34
        },
        "outputId": "18c891f1-a199-49a5-c4c8-73886979757b"
      },
      "source": [
        "'India'\n"
      ],
      "execution_count": 39,
      "outputs": [
        {
          "output_type": "execute_result",
          "data": {
            "text/plain": [
              "'Hello World!'"
            ]
          },
          "metadata": {
            "tags": []
          },
          "execution_count": 39
        }
      ]
    },
    {
      "cell_type": "code",
      "metadata": {
        "id": "doIdEUmWVvQu",
        "colab_type": "code",
        "colab": {
          "base_uri": "https://localhost:8080/",
          "height": 34
        },
        "outputId": "8bcb2d93-e254-489d-bd9b-f088191db16b"
      },
      "source": [
        "'India\\'s best'\n"
      ],
      "execution_count": 40,
      "outputs": [
        {
          "output_type": "execute_result",
          "data": {
            "text/plain": [
              "\"India's best\""
            ]
          },
          "metadata": {
            "tags": []
          },
          "execution_count": 40
        }
      ]
    },
    {
      "cell_type": "code",
      "metadata": {
        "id": "cdJNQv9wVzVW",
        "colab_type": "code",
        "colab": {
          "base_uri": "https://localhost:8080/",
          "height": 34
        },
        "outputId": "088aedcf-6716-4587-92ef-c7816cb220ce"
      },
      "source": [
        "\"Hello World!\""
      ],
      "execution_count": 41,
      "outputs": [
        {
          "output_type": "execute_result",
          "data": {
            "text/plain": [
              "'Hello World!'"
            ]
          },
          "metadata": {
            "tags": []
          },
          "execution_count": 41
        }
      ]
    },
    {
      "cell_type": "code",
      "metadata": {
        "id": "lojVwc7bV0Nc",
        "colab_type": "code",
        "colab": {
          "base_uri": "https://localhost:8080/",
          "height": 52
        },
        "outputId": "fdf08ce6-6586-4a2f-f94a-3dbba9d57683"
      },
      "source": [
        "number = int(input(\"Enter an integer: \"))\n",
        "if number < 100:\n",
        "  print(\"this is less than 100\")\n",
        "else:\n",
        "  print(\"this is not less than 100\")"
      ],
      "execution_count": 43,
      "outputs": [
        {
          "output_type": "stream",
          "text": [
            "Enter an integer: 50\n",
            "this is less than 100\n"
          ],
          "name": "stdout"
        }
      ]
    },
    {
      "cell_type": "code",
      "metadata": {
        "id": "6eOm9-9XWaUg",
        "colab_type": "code",
        "colab": {
          "base_uri": "https://localhost:8080/",
          "height": 228
        },
        "outputId": "cfeb8056-d33e-4eb9-bc19-08970b36653e"
      },
      "source": [
        "# We will calculate investments \n",
        "amount = float(input(\"Enter Amount: \"))\n",
        "inrate = float(input(\"Enter Interst Rate: \"))\n",
        "period = int(input(\"Enter Period: \"))\n",
        "value = 0 \n",
        "year = 1 \n",
        "while year<= period:\n",
        "  value=  amount + (inrate * amount)\n",
        "  print(\"Year %d Rs. %.2f\" % (year, value))\n",
        "  amount = value\n",
        "  year = year+1"
      ],
      "execution_count": 44,
      "outputs": [
        {
          "output_type": "stream",
          "text": [
            "Enter Amount: 10000\n",
            "Enter Interst Rate: 4\n",
            "Enter Period: 9\n",
            "Year 1 Rs. 50000.00\n",
            "Year 2 Rs. 250000.00\n",
            "Year 3 Rs. 1250000.00\n",
            "Year 4 Rs. 6250000.00\n",
            "Year 5 Rs. 31250000.00\n",
            "Year 6 Rs. 156250000.00\n",
            "Year 7 Rs. 781250000.00\n",
            "Year 8 Rs. 3906250000.00\n",
            "Year 9 Rs. 19531250000.00\n"
          ],
          "name": "stdout"
        }
      ]
    },
    {
      "cell_type": "code",
      "metadata": {
        "id": "XCSFyUaMZVqA",
        "colab_type": "code",
        "colab": {
          "base_uri": "https://localhost:8080/",
          "height": 228
        },
        "outputId": "30ebacb8-7a4a-4867-f059-8214bb66266a"
      },
      "source": [
        "#We will do average of N numbers \n",
        "N = 10\n",
        "sum = 0\n",
        "count = 0\n",
        "while count< N:\n",
        "  number = float(input(\"\"))\n",
        "  sum=sum+number\n",
        "  count=count+1\n",
        "average = float(sum)/N \n",
        "print(\"N = %d, Sum=%f\" % (N, sum))\n",
        "print(\"Average = %f\" % average)"
      ],
      "execution_count": 47,
      "outputs": [
        {
          "output_type": "stream",
          "text": [
            "10\n",
            "9.5\n",
            "8.5\n",
            "10\n",
            "9.9\n",
            "8.5\n",
            "8.5\n",
            "8.6\n",
            "8.4\n",
            "9.4\n",
            "N = 10, Sum=91.300000\n",
            "Average = 9.130000\n"
          ],
          "name": "stdout"
        }
      ]
    },
    {
      "cell_type": "code",
      "metadata": {
        "id": "E9YE0-gba3Ce",
        "colab_type": "code",
        "colab": {
          "base_uri": "https://localhost:8080/",
          "height": 210
        },
        "outputId": "eff7a074-8634-4751-8f99-93b42b2d264a"
      },
      "source": [
        "#this program we will convert the given temperature to Celsius from Fahrenheit by using the formula C=(F-32)/1.8\n",
        "Fahrenheit=0.0\n",
        "print(\"Fahrenheit to celsius\")\n",
        "while Fahrenheit<250:\n",
        "  Celsius= (Fahrenheit - 32.0) # Here we calculate the celsius value \n",
        "  print(\"%5.1f %7.2f\" %(Fahrenheit , Celsius))\n",
        "  Fahrenheit = Fahrenheit + 25"
      ],
      "execution_count": 48,
      "outputs": [
        {
          "output_type": "stream",
          "text": [
            "Fahrenheit to celsius\n",
            "  0.0  -32.00\n",
            " 25.0   -7.00\n",
            " 50.0   18.00\n",
            " 75.0   43.00\n",
            "100.0   68.00\n",
            "125.0   93.00\n",
            "150.0  118.00\n",
            "175.0  143.00\n",
            "200.0  168.00\n",
            "225.0  193.00\n"
          ],
          "name": "stdout"
        }
      ]
    },
    {
      "cell_type": "code",
      "metadata": {
        "id": "zrVVw-9deM5Z",
        "colab_type": "code",
        "colab": {}
      },
      "source": [
        " a , b = 45, 54 "
      ],
      "execution_count": 0,
      "outputs": []
    },
    {
      "cell_type": "code",
      "metadata": {
        "id": "YyvFf97Bqz9H",
        "colab_type": "code",
        "colab": {
          "base_uri": "https://localhost:8080/",
          "height": 34
        },
        "outputId": "f0132639-8f6b-4d9e-ba03-1f1a38b5d127"
      },
      "source": [
        "a"
      ],
      "execution_count": 50,
      "outputs": [
        {
          "output_type": "execute_result",
          "data": {
            "text/plain": [
              "45"
            ]
          },
          "metadata": {
            "tags": []
          },
          "execution_count": 50
        }
      ]
    },
    {
      "cell_type": "code",
      "metadata": {
        "id": "ycGMNROIrZJX",
        "colab_type": "code",
        "colab": {
          "base_uri": "https://localhost:8080/",
          "height": 34
        },
        "outputId": "9f000cc7-3b51-427d-d63d-bb452c608266"
      },
      "source": [
        "b"
      ],
      "execution_count": 51,
      "outputs": [
        {
          "output_type": "execute_result",
          "data": {
            "text/plain": [
              "54"
            ]
          },
          "metadata": {
            "tags": []
          },
          "execution_count": 51
        }
      ]
    },
    {
      "cell_type": "code",
      "metadata": {
        "id": "JmUMAySQraDG",
        "colab_type": "code",
        "colab": {}
      },
      "source": [
        "a,b=b,a"
      ],
      "execution_count": 0,
      "outputs": []
    },
    {
      "cell_type": "code",
      "metadata": {
        "id": "lE-gtym0rdfz",
        "colab_type": "code",
        "colab": {}
      },
      "source": [
        "data=(\"dhanush\",\"India\",\"Python\")"
      ],
      "execution_count": 0,
      "outputs": []
    },
    {
      "cell_type": "code",
      "metadata": {
        "id": "Yy8Sz6O3rl6a",
        "colab_type": "code",
        "colab": {}
      },
      "source": [
        "name,country,language = data"
      ],
      "execution_count": 0,
      "outputs": []
    },
    {
      "cell_type": "code",
      "metadata": {
        "id": "Lqq8qY1Grro9",
        "colab_type": "code",
        "colab": {
          "base_uri": "https://localhost:8080/",
          "height": 34
        },
        "outputId": "345d3e7c-93b9-43f8-e8fe-5d98bfaed1fa"
      },
      "source": [
        "name"
      ],
      "execution_count": 55,
      "outputs": [
        {
          "output_type": "execute_result",
          "data": {
            "text/plain": [
              "'dhanush'"
            ]
          },
          "metadata": {
            "tags": []
          },
          "execution_count": 55
        }
      ]
    },
    {
      "cell_type": "code",
      "metadata": {
        "id": "5vxyFQDvruku",
        "colab_type": "code",
        "colab": {
          "base_uri": "https://localhost:8080/",
          "height": 34
        },
        "outputId": "5ec256ee-6d5a-49c7-f7c2-ef609df4844a"
      },
      "source": [
        "2+3"
      ],
      "execution_count": 57,
      "outputs": [
        {
          "output_type": "execute_result",
          "data": {
            "text/plain": [
              "5"
            ]
          },
          "metadata": {
            "tags": []
          },
          "execution_count": 57
        }
      ]
    },
    {
      "cell_type": "code",
      "metadata": {
        "id": "yvitEcGesG5k",
        "colab_type": "code",
        "colab": {
          "base_uri": "https://localhost:8080/",
          "height": 34
        },
        "outputId": "d75a2b5d-3642-4745-efe9-d8f97b4f9882"
      },
      "source": [
        "22.0/12"
      ],
      "execution_count": 58,
      "outputs": [
        {
          "output_type": "execute_result",
          "data": {
            "text/plain": [
              "1.8333333333333333"
            ]
          },
          "metadata": {
            "tags": []
          },
          "execution_count": 58
        }
      ]
    },
    {
      "cell_type": "code",
      "metadata": {
        "id": "eIvgx-B0sLev",
        "colab_type": "code",
        "colab": {
          "base_uri": "https://localhost:8080/",
          "height": 34
        },
        "outputId": "549c4f51-dd64-4387-bd88-c850bc17825c"
      },
      "source": [
        "22.0//12"
      ],
      "execution_count": 59,
      "outputs": [
        {
          "output_type": "execute_result",
          "data": {
            "text/plain": [
              "1.0"
            ]
          },
          "metadata": {
            "tags": []
          },
          "execution_count": 59
        }
      ]
    },
    {
      "cell_type": "code",
      "metadata": {
        "id": "E-Q2U603sN_Q",
        "colab_type": "code",
        "colab": {
          "base_uri": "https://localhost:8080/",
          "height": 34
        },
        "outputId": "9a767e4b-2adc-4eab-936c-db598eda9c24"
      },
      "source": [
        "14%3 #Remainder "
      ],
      "execution_count": 61,
      "outputs": [
        {
          "output_type": "execute_result",
          "data": {
            "text/plain": [
              "2"
            ]
          },
          "metadata": {
            "tags": []
          },
          "execution_count": 61
        }
      ]
    },
    {
      "cell_type": "code",
      "metadata": {
        "id": "sdlLyN40sVSB",
        "colab_type": "code",
        "colab": {
          "base_uri": "https://localhost:8080/",
          "height": 52
        },
        "outputId": "2e8fd1a6-0468-4566-a472-c43b1ca7e0b8"
      },
      "source": [
        "days = int(input(\"Enter days:\"))\n",
        "months = days / 30\n",
        "days = days % 30\n",
        "print(\"Months = %d Days = %d \" %(months,days))"
      ],
      "execution_count": 62,
      "outputs": [
        {
          "output_type": "stream",
          "text": [
            "Enter days:1\n",
            "Months = 0 Days = 1 \n"
          ],
          "name": "stdout"
        }
      ]
    },
    {
      "cell_type": "code",
      "metadata": {
        "id": "OShIFpVNtQum",
        "colab_type": "code",
        "colab": {
          "base_uri": "https://localhost:8080/",
          "height": 34
        },
        "outputId": "be108bf7-a02c-46ab-eaf2-b05bec47beb2"
      },
      "source": [
        "1 and 4"
      ],
      "execution_count": 63,
      "outputs": [
        {
          "output_type": "execute_result",
          "data": {
            "text/plain": [
              "4"
            ]
          },
          "metadata": {
            "tags": []
          },
          "execution_count": 63
        }
      ]
    },
    {
      "cell_type": "code",
      "metadata": {
        "id": "qmNc88N4t8Nk",
        "colab_type": "code",
        "colab": {
          "base_uri": "https://localhost:8080/",
          "height": 34
        },
        "outputId": "8ee07b60-6abb-4cef-806b-c2a418aa7caa"
      },
      "source": [
        "1 or 4"
      ],
      "execution_count": 64,
      "outputs": [
        {
          "output_type": "execute_result",
          "data": {
            "text/plain": [
              "1"
            ]
          },
          "metadata": {
            "tags": []
          },
          "execution_count": 64
        }
      ]
    },
    {
      "cell_type": "code",
      "metadata": {
        "id": "5t8RKDz9t-rQ",
        "colab_type": "code",
        "colab": {
          "base_uri": "https://localhost:8080/",
          "height": 34
        },
        "outputId": "87da30f7-44be-40c5-a6a5-3a1787a38345"
      },
      "source": [
        "-1 or 4 "
      ],
      "execution_count": 65,
      "outputs": [
        {
          "output_type": "execute_result",
          "data": {
            "text/plain": [
              "-1"
            ]
          },
          "metadata": {
            "tags": []
          },
          "execution_count": 65
        }
      ]
    },
    {
      "cell_type": "code",
      "metadata": {
        "id": "Q9_gGYMauKF_",
        "colab_type": "code",
        "colab": {
          "base_uri": "https://localhost:8080/",
          "height": 34
        },
        "outputId": "053f531c-4385-4fb0-ba85-462b70029932"
      },
      "source": [
        "0 or 4 "
      ],
      "execution_count": 66,
      "outputs": [
        {
          "output_type": "execute_result",
          "data": {
            "text/plain": [
              "4"
            ]
          },
          "metadata": {
            "tags": []
          },
          "execution_count": 66
        }
      ]
    },
    {
      "cell_type": "code",
      "metadata": {
        "id": "Okj1q0uEuMYa",
        "colab_type": "code",
        "colab": {}
      },
      "source": [
        "a=12"
      ],
      "execution_count": 0,
      "outputs": []
    },
    {
      "cell_type": "code",
      "metadata": {
        "id": "uV0kqr3XvwjG",
        "colab_type": "code",
        "colab": {}
      },
      "source": [
        "a+=13"
      ],
      "execution_count": 0,
      "outputs": []
    },
    {
      "cell_type": "code",
      "metadata": {
        "id": "g-iPhLXhvyiw",
        "colab_type": "code",
        "colab": {
          "base_uri": "https://localhost:8080/",
          "height": 34
        },
        "outputId": "988db379-050a-4726-8b94-5cf24be13a53"
      },
      "source": [
        "a"
      ],
      "execution_count": 69,
      "outputs": [
        {
          "output_type": "execute_result",
          "data": {
            "text/plain": [
              "25"
            ]
          },
          "metadata": {
            "tags": []
          },
          "execution_count": 69
        }
      ]
    },
    {
      "cell_type": "code",
      "metadata": {
        "id": "LXSX0Untvz8l",
        "colab_type": "code",
        "colab": {}
      },
      "source": [
        "a/= 3"
      ],
      "execution_count": 0,
      "outputs": []
    },
    {
      "cell_type": "code",
      "metadata": {
        "id": "DzUYszVFv40D",
        "colab_type": "code",
        "colab": {
          "base_uri": "https://localhost:8080/",
          "height": 34
        },
        "outputId": "c233a066-93f0-48ab-cfb2-e7aa58fcdca3"
      },
      "source": [
        "a"
      ],
      "execution_count": 71,
      "outputs": [
        {
          "output_type": "execute_result",
          "data": {
            "text/plain": [
              "8.333333333333334"
            ]
          },
          "metadata": {
            "tags": []
          },
          "execution_count": 71
        }
      ]
    },
    {
      "cell_type": "code",
      "metadata": {
        "id": "hH89Hfexv6VV",
        "colab_type": "code",
        "colab": {}
      },
      "source": [
        "a += (26 * 32)"
      ],
      "execution_count": 0,
      "outputs": []
    },
    {
      "cell_type": "code",
      "metadata": {
        "id": "21ZQAIQzwCJg",
        "colab_type": "code",
        "colab": {
          "base_uri": "https://localhost:8080/",
          "height": 34
        },
        "outputId": "1822cfbc-44fd-4f46-86c4-2538bc26158a"
      },
      "source": [
        "a"
      ],
      "execution_count": 73,
      "outputs": [
        {
          "output_type": "execute_result",
          "data": {
            "text/plain": [
              "840.3333333333334"
            ]
          },
          "metadata": {
            "tags": []
          },
          "execution_count": 73
        }
      ]
    },
    {
      "cell_type": "code",
      "metadata": {
        "id": "eIJJ91VfwDnx",
        "colab_type": "code",
        "colab": {
          "base_uri": "https://localhost:8080/",
          "height": 87
        },
        "outputId": "e51657a3-25d1-4d2f-e644-ae715870eab2"
      },
      "source": [
        "N = int(input(\"N: \"))\n",
        "a = int(input(\"a: \"))\n",
        "while a < N:\n",
        "  print(\"%d\" % a)\n",
        "  a *= a "
      ],
      "execution_count": 85,
      "outputs": [
        {
          "output_type": "stream",
          "text": [
            "N: 10\n",
            "a: 2\n",
            "2\n",
            "4\n"
          ],
          "name": "stdout"
        }
      ]
    },
    {
      "cell_type": "code",
      "metadata": {
        "id": "C5Agfop7zkB0",
        "colab_type": "code",
        "colab": {
          "base_uri": "https://localhost:8080/",
          "height": 70
        },
        "outputId": "0c22e109-60ff-43a5-c800-5300fff29ca4"
      },
      "source": [
        "a = 9\n",
        "b = 12\n",
        "c = 3\n",
        "x = a - b / 3 + c * 2 - 1\n",
        "y = a - b / (3 + c) * (2 - 1)\n",
        "z = a - (b / (3 + c) * 2) - 1\n",
        "print(\" X =\", int(x))\n",
        "print(\"Y =\", int(y))\n",
        "print(\"Z =\", int(z))"
      ],
      "execution_count": 88,
      "outputs": [
        {
          "output_type": "stream",
          "text": [
            " X = 10\n",
            "Y = 7\n",
            "Z = 4\n"
          ],
          "name": "stdout"
        }
      ]
    },
    {
      "cell_type": "code",
      "metadata": {
        "id": "kzxAGXsM01KD",
        "colab_type": "code",
        "colab": {
          "base_uri": "https://localhost:8080/",
          "height": 34
        },
        "outputId": "df636d5b-d224-46fd-bdcd-cf5d3f853c08"
      },
      "source": [
        "#float(string) = float value\n",
        "#int(string) = integer value \n",
        "#str(integer) or str(float) = string representation \n",
        "a = 8.126768\n",
        "str(a)"
      ],
      "execution_count": 90,
      "outputs": [
        {
          "output_type": "execute_result",
          "data": {
            "text/plain": [
              "'8.126768'"
            ]
          },
          "metadata": {
            "tags": []
          },
          "execution_count": 90
        }
      ]
    },
    {
      "cell_type": "code",
      "metadata": {
        "id": "Q4eBraNBwl_U",
        "colab_type": "code",
        "colab": {
          "base_uri": "https://localhost:8080/",
          "height": 193
        },
        "outputId": "a4972c77-f439-4150-f511-affac3f9fb21"
      },
      "source": [
        "#This is a program to evaluate 1/x+1/(x+1)+1/(x+2)+ ... +1/n series upto n, in our case x = 1 and n =10\n",
        "sum = 0.0\n",
        "for i in range (1 , 11):\n",
        "  sum += 1.0 / i \n",
        "  print(\"%2d %6.4f\" %(i , sum))"
      ],
      "execution_count": 91,
      "outputs": [
        {
          "output_type": "stream",
          "text": [
            " 1 1.0000\n",
            " 2 1.5000\n",
            " 3 1.8333\n",
            " 4 2.0833\n",
            " 5 2.2833\n",
            " 6 2.4500\n",
            " 7 2.5929\n",
            " 8 2.7179\n",
            " 9 2.8290\n",
            "10 2.9290\n"
          ],
          "name": "stdout"
        }
      ]
    },
    {
      "cell_type": "code",
      "metadata": {
        "id": "rB-Fvmz47vko",
        "colab_type": "code",
        "colab": {
          "base_uri": "https://localhost:8080/",
          "height": 105
        },
        "outputId": "5184095f-c03e-43b9-fdda-debf263f756c"
      },
      "source": [
        "import math\n",
        "a = int(input(\"Enter value of a: \"))\n",
        "b = int(input(\"Enter value of b: \"))\n",
        "c = int(input(\"Enter value of c: \"))\n",
        "d = b * b - 4 * a * c\n",
        "if d<0:\n",
        "  print(\"The roots are imaginary\")\n",
        "else:\n",
        "  root1 = (-b + math.sqrt(d)) / (2.0 * a)\n",
        "  root2 = (-b - math.sqrt(d)) / (2.0 * a)\n",
        "  print(\"root 1 =\", root1)\n",
        "  print(\"root 2 =\", root2) "
      ],
      "execution_count": 93,
      "outputs": [
        {
          "output_type": "stream",
          "text": [
            "Enter value of a: 5\n",
            "Enter value of b: 10\n",
            "Enter value of c: -15\n",
            "root 1 = 1.0\n",
            "root 2 = -3.0\n"
          ],
          "name": "stdout"
        }
      ]
    },
    {
      "cell_type": "code",
      "metadata": {
        "id": "AqFUrbUa_JVt",
        "colab_type": "code",
        "colab": {
          "base_uri": "https://localhost:8080/",
          "height": 105
        },
        "outputId": "84e3b722-d582-4a73-c320-5c6d0eb379a3"
      },
      "source": [
        "#In this example we are going to calculate the salary of a camera salesman. \n",
        "#His basic salary is 1500, for every camera he will sell he will get 200 and the commission on the month’s sale is 2 %. \n",
        "#The input will be number of cameras sold and total price of the cameras.\n",
        "basic_salary = 1500\n",
        "bonus = 200\n",
        "commission_rate = 0.02\n",
        "numberofcameras = int(input(\"Enter the number of cameras sold: \"))\n",
        "totalpriceofcameras = float(input(\"Enter the total price of cameras: \"))\n",
        "bonusmoney = bonus * numberofcameras\n",
        "commission = commission_rate * numberofcameras * totalpriceofcameras \n",
        "print(\"Bonusmoney        =%6.2f\"% bonusmoney)\n",
        "print(\"Commission        =%6.2f\"% commission )\n",
        "print(\"Gross salary      =%6.2f\"%(basic_salary + bonusmoney + commission))"
      ],
      "execution_count": 95,
      "outputs": [
        {
          "output_type": "stream",
          "text": [
            "Enter the number of cameras sold: 4\n",
            "Enter the total price of cameras: 1500\n",
            "Bonusmoney        =800.00\n",
            "Commission        =120.00\n",
            "Gross salary      =2420.00\n"
          ],
          "name": "stdout"
        }
      ]
    },
    {
      "cell_type": "code",
      "metadata": {
        "id": "q1K9em6-HAqE",
        "colab_type": "code",
        "colab": {}
      },
      "source": [
        ""
      ],
      "execution_count": 0,
      "outputs": []
    }
  ]
}