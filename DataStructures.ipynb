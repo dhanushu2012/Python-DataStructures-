{
  "nbformat": 4,
  "nbformat_minor": 0,
  "metadata": {
    "colab": {
      "name": "Untitled1.ipynb",
      "provenance": [],
      "collapsed_sections": []
    },
    "kernelspec": {
      "name": "python3",
      "display_name": "Python 3"
    }
  },
  "cells": [
    {
      "cell_type": "code",
      "metadata": {
        "id": "XbKee05HJ9Xe",
        "colab_type": "code",
        "outputId": "eae3b705-6915-4135-f759-da7a7e518bc5",
        "colab": {
          "base_uri": "https://localhost:8080/",
          "height": 34
        }
      },
      "source": [
        "print(\"HelloWorld\")"
      ],
      "execution_count": 0,
      "outputs": [
        {
          "output_type": "stream",
          "text": [
            "HelloWorld\n"
          ],
          "name": "stdout"
        }
      ]
    },
    {
      "cell_type": "code",
      "metadata": {
        "id": "KeZD9xGkKCMk",
        "colab_type": "code",
        "outputId": "a091d118-39a4-4b6b-b20a-a3b62b5605a9",
        "colab": {
          "base_uri": "https://localhost:8080/",
          "height": 34
        }
      },
      "source": [
        "print(\"My name is Bob\")"
      ],
      "execution_count": 0,
      "outputs": [
        {
          "output_type": "stream",
          "text": [
            "My name is Bob\n"
          ],
          "name": "stdout"
        }
      ]
    },
    {
      "cell_type": "code",
      "metadata": {
        "id": "gvaikVBpL9tz",
        "colab_type": "code",
        "outputId": "3f36c8c3-1d96-4cab-e1f4-aae2f36a46f3",
        "colab": {
          "base_uri": "https://localhost:8080/",
          "height": 34
        }
      },
      "source": [
        "7+2"
      ],
      "execution_count": 0,
      "outputs": [
        {
          "output_type": "execute_result",
          "data": {
            "text/plain": [
              "9"
            ]
          },
          "metadata": {
            "tags": []
          },
          "execution_count": 3
        }
      ]
    },
    {
      "cell_type": "code",
      "metadata": {
        "id": "phL36bcmMIhk",
        "colab_type": "code",
        "outputId": "c2656a45-ab1c-4274-e19b-a964c2e545b0",
        "colab": {
          "base_uri": "https://localhost:8080/",
          "height": 34
        }
      },
      "source": [
        "#A string is a sequence of characters that can be processed by a computer. The string is usually stored for manipulation later.\n",
        " \n",
        "#Strings must always begin and end with the same character, this is a requirement. \n",
        "#In addition you can use either single or double quotations to signify a string, \n",
        "#there is no difference between the two. The quotation marks only serve to inform Python that what's inside of them is a string\n",
        "\"Bob\""
      ],
      "execution_count": 0,
      "outputs": [
        {
          "output_type": "execute_result",
          "data": {
            "text/plain": [
              "'Bob'"
            ]
          },
          "metadata": {
            "tags": []
          },
          "execution_count": 14
        }
      ]
    },
    {
      "cell_type": "code",
      "metadata": {
        "id": "fqldk6itMvx4",
        "colab_type": "code",
        "outputId": "c994bbdc-f07f-47c2-ccd9-50c6964c4c13",
        "colab": {
          "base_uri": "https://localhost:8080/",
          "height": 34
        }
      },
      "source": [
        "\"Hello there \" + \"my name is \" + \"Bob\""
      ],
      "execution_count": 0,
      "outputs": [
        {
          "output_type": "execute_result",
          "data": {
            "text/plain": [
              "'Hello there my name is Bob'"
            ]
          },
          "metadata": {
            "tags": []
          },
          "execution_count": 7
        }
      ]
    },
    {
      "cell_type": "code",
      "metadata": {
        "id": "5mgRfqgFM9sv",
        "colab_type": "code",
        "outputId": "cf609992-2726-4e56-e426-8adc36644364",
        "colab": {
          "base_uri": "https://localhost:8080/",
          "height": 34
        }
      },
      "source": [
        "\"Bob\"*4"
      ],
      "execution_count": 0,
      "outputs": [
        {
          "output_type": "execute_result",
          "data": {
            "text/plain": [
              "'BobBobBobBob'"
            ]
          },
          "metadata": {
            "tags": []
          },
          "execution_count": 8
        }
      ]
    },
    {
      "cell_type": "code",
      "metadata": {
        "id": "0OFJubHENJKb",
        "colab_type": "code",
        "outputId": "a346b352-6557-424f-cc51-f39334b96799",
        "colab": {
          "base_uri": "https://localhost:8080/",
          "height": 34
        }
      },
      "source": [
        "\"Bob\".upper()"
      ],
      "execution_count": 0,
      "outputs": [
        {
          "output_type": "execute_result",
          "data": {
            "text/plain": [
              "'BOB'"
            ]
          },
          "metadata": {
            "tags": []
          },
          "execution_count": 10
        }
      ]
    },
    {
      "cell_type": "code",
      "metadata": {
        "id": "YjAGb9ddNPuA",
        "colab_type": "code",
        "outputId": "86b0e519-9761-44b5-e9c0-4067f9905c4a",
        "colab": {
          "base_uri": "https://localhost:8080/",
          "height": 34
        }
      },
      "source": [
        "#Return the length of the Phrase or the Word \n",
        "len(\"Bobisthegreatestever\")"
      ],
      "execution_count": 0,
      "outputs": [
        {
          "output_type": "execute_result",
          "data": {
            "text/plain": [
              "20"
            ]
          },
          "metadata": {
            "tags": []
          },
          "execution_count": 11
        }
      ]
    },
    {
      "cell_type": "code",
      "metadata": {
        "id": "v3q-H6adN2pW",
        "colab_type": "code",
        "colab": {}
      },
      "source": [
        "#Return the Length of a Phrase or Word\n",
        "#Each entry in the list of \"players\" we created above is called a variable. \n",
        "#Variables are nothing more than names or titles for a particular set of data so that you can store them and call upon them later. \n",
        "#For example, the variable in the tutorial above was \"players\" because that's what we used to store the names of the players.\n",
        "players=[\"bryan\",\"john\",\"chris\"]"
      ],
      "execution_count": 0,
      "outputs": []
    },
    {
      "cell_type": "code",
      "metadata": {
        "id": "rtCzByFTOAlW",
        "colab_type": "code",
        "outputId": "3a9e792f-ac94-43ab-b268-87609a18783e",
        "colab": {
          "base_uri": "https://localhost:8080/",
          "height": 34
        }
      },
      "source": [
        "len(players)"
      ],
      "execution_count": 0,
      "outputs": [
        {
          "output_type": "execute_result",
          "data": {
            "text/plain": [
              "3"
            ]
          },
          "metadata": {
            "tags": []
          },
          "execution_count": 13
        }
      ]
    },
    {
      "cell_type": "code",
      "metadata": {
        "id": "JIZx4COjOFST",
        "colab_type": "code",
        "colab": {}
      },
      "source": [
        "#Lets create a new variable on our own \n",
        "movie = \"Terminator\""
      ],
      "execution_count": 0,
      "outputs": []
    },
    {
      "cell_type": "code",
      "metadata": {
        "id": "fkgH6AFMPL4r",
        "colab_type": "code",
        "outputId": "829b8ab6-0d6d-4132-85b6-aeea8c64bf4e",
        "colab": {
          "base_uri": "https://localhost:8080/",
          "height": 34
        }
      },
      "source": [
        "#Our variable is \"movie\" and in that variable we stored the data \"Terminator,\" as you can see.\n",
        " \n",
        "#One thing you'll notice about variables is that the interpreter doesn't return anything once the information is stored. \n",
        "#You may be wondering how we know the variable was actually stored?\n",
        "#You can test this by simply entering \"movie\" in the interpreter and hitting enter. It should return the data stored in that particular variable, like so:\n",
        "movie"
      ],
      "execution_count": 0,
      "outputs": [
        {
          "output_type": "execute_result",
          "data": {
            "text/plain": [
              "'Terminator'"
            ]
          },
          "metadata": {
            "tags": []
          },
          "execution_count": 17
        }
      ]
    },
    {
      "cell_type": "code",
      "metadata": {
        "id": "oCzfs1Z0PdSd",
        "colab_type": "code",
        "outputId": "e81137a6-7c5d-4666-ab0e-f9a30e00f528",
        "colab": {
          "base_uri": "https://localhost:8080/",
          "height": 34
        }
      },
      "source": [
        "#But, let's say we get sick of seeing \"Terminator\" as the data stored in that variable. We can change this easily.\n",
        "movie=\"Cinderella\"\n",
        "movie"
      ],
      "execution_count": 0,
      "outputs": [
        {
          "output_type": "execute_result",
          "data": {
            "text/plain": [
              "'Cinderella'"
            ]
          },
          "metadata": {
            "tags": []
          },
          "execution_count": 18
        }
      ]
    },
    {
      "cell_type": "code",
      "metadata": {
        "id": "w2hHTWBYPoVK",
        "colab_type": "code",
        "outputId": "23de3022-3ab4-413d-edca-290b4faf40b6",
        "colab": {
          "base_uri": "https://localhost:8080/",
          "height": 34
        }
      },
      "source": [
        "#You can store just about anything inside a variable, including numbers, equations, and more.\n",
        "#thing you can do with a programming language is compare sets of data. Let's try that now, using numbers.\n",
        "7>2"
      ],
      "execution_count": 0,
      "outputs": [
        {
          "output_type": "execute_result",
          "data": {
            "text/plain": [
              "True"
            ]
          },
          "metadata": {
            "tags": []
          },
          "execution_count": 22
        }
      ]
    },
    {
      "cell_type": "code",
      "metadata": {
        "id": "im5nZswyS9Z3",
        "colab_type": "code",
        "outputId": "05e77bd1-775b-4922-bc9c-4b90cff360fa",
        "colab": {
          "base_uri": "https://localhost:8080/",
          "height": 34
        }
      },
      "source": [
        "9<1"
      ],
      "execution_count": 0,
      "outputs": [
        {
          "output_type": "execute_result",
          "data": {
            "text/plain": [
              "False"
            ]
          },
          "metadata": {
            "tags": []
          },
          "execution_count": 23
        }
      ]
    },
    {
      "cell_type": "code",
      "metadata": {
        "id": "MUhDItMHUKA5",
        "colab_type": "code",
        "outputId": "f262751e-8f36-401c-fa9c-9583c0834077",
        "colab": {
          "base_uri": "https://localhost:8080/",
          "height": 34
        }
      },
      "source": [
        "6>2*4"
      ],
      "execution_count": 0,
      "outputs": [
        {
          "output_type": "execute_result",
          "data": {
            "text/plain": [
              "False"
            ]
          },
          "metadata": {
            "tags": []
          },
          "execution_count": 24
        }
      ]
    },
    {
      "cell_type": "code",
      "metadata": {
        "id": "0j7zB6k6UNB5",
        "colab_type": "code",
        "outputId": "45dab230-1b3c-44ab-ad10-d0b79617229b",
        "colab": {
          "base_uri": "https://localhost:8080/",
          "height": 34
        }
      },
      "source": [
        "3==3\n",
        "#Notice how we used two equal signs (==) to check if sets of data are equal? You must always use two equal signs if that's what you are trying to do\n",
        "#This is because a single equal sign, or \"=\" is used to assign a value to a variable.\n",
        "#In addition, if you want to check whether or not two values are unequal you can use an exclamation mark followed by an equal sign like so: \"!=\"\n",
        "#If you don't like shellfish - or you're allergic - we apologize. Still, you should be pleased to know that you've completed the basic tutorials!\n",
        "#If you feel comfortable you can move on to a full-featured tutorial that will walk you through the steps, from beginner to advanced.\n",
        "#The world is your oyster! Get out there and... well, get out there and shuck it!"
      ],
      "execution_count": 0,
      "outputs": [
        {
          "output_type": "execute_result",
          "data": {
            "text/plain": [
              "True"
            ]
          },
          "metadata": {
            "tags": []
          },
          "execution_count": 25
        }
      ]
    },
    {
      "cell_type": "code",
      "metadata": {
        "id": "i79In25OUP0t",
        "colab_type": "code",
        "colab": {}
      },
      "source": [
        "import keyword  "
      ],
      "execution_count": 0,
      "outputs": []
    },
    {
      "cell_type": "code",
      "metadata": {
        "id": "yt91Kh3naas8",
        "colab_type": "code",
        "outputId": "78b431a2-d62c-4884-b680-026438a223e8",
        "colab": {
          "base_uri": "https://localhost:8080/",
          "height": 598
        }
      },
      "source": [
        "#These keywords may often change as new Python versions are released. A couple things in mind:\n",
        "\n",
        "#These are fixed and cannot be used as identifiers\n",
        "#They are case sensitive\n",
        "\n",
        "keyword.kwlist"
      ],
      "execution_count": 0,
      "outputs": [
        {
          "output_type": "execute_result",
          "data": {
            "text/plain": [
              "['False',\n",
              " 'None',\n",
              " 'True',\n",
              " 'and',\n",
              " 'as',\n",
              " 'assert',\n",
              " 'break',\n",
              " 'class',\n",
              " 'continue',\n",
              " 'def',\n",
              " 'del',\n",
              " 'elif',\n",
              " 'else',\n",
              " 'except',\n",
              " 'finally',\n",
              " 'for',\n",
              " 'from',\n",
              " 'global',\n",
              " 'if',\n",
              " 'import',\n",
              " 'in',\n",
              " 'is',\n",
              " 'lambda',\n",
              " 'nonlocal',\n",
              " 'not',\n",
              " 'or',\n",
              " 'pass',\n",
              " 'raise',\n",
              " 'return',\n",
              " 'try',\n",
              " 'while',\n",
              " 'with',\n",
              " 'yield']"
            ]
          },
          "metadata": {
            "tags": []
          },
          "execution_count": 27
        }
      ]
    },
    {
      "cell_type": "code",
      "metadata": {
        "id": "iUo29ycTagBM",
        "colab_type": "code",
        "outputId": "8dc112e7-8c8c-40ca-ab42-a1a9b07ec87f",
        "colab": {
          "base_uri": "https://localhost:8080/",
          "height": 70
        }
      },
      "source": [
        "#Indentation is help organize code blocks in Python. And, it is rigidly enforced and makes your code visually scannable.\n",
        "person= [\"Dave\",\"Ben\",\"Emily\"]\n",
        "for x in person:\n",
        "  if x==\"Ben\":\n",
        "    print(x)\n",
        "  else:\n",
        "    print(\"NotBen\")\n",
        "#Notice how the \"for\" statement has one space(indentation), and how \"if\" has two.\n",
        "#That establishes a hierarchy of what's happening within the code."
      ],
      "execution_count": 0,
      "outputs": [
        {
          "output_type": "stream",
          "text": [
            "NotBen\n",
            "Ben\n",
            "NotBen\n"
          ],
          "name": "stdout"
        }
      ]
    },
    {
      "cell_type": "code",
      "metadata": {
        "id": "uTVJF6o0bQN2",
        "colab_type": "code",
        "colab": {}
      },
      "source": [
        "person=\"John Doe\";age=12;location=\"unknown\""
      ],
      "execution_count": 0,
      "outputs": []
    },
    {
      "cell_type": "code",
      "metadata": {
        "id": "BCNi28SfclT4",
        "colab_type": "code",
        "colab": {}
      },
      "source": [
        "#Lists are collections of items (strings, integers, or even other lists).\n",
        "#Each item in the list has an assigned index value.\n",
        "#Lists are enclosed in [ ]\n",
        "#Each item in a list is separated by a comma\n",
        "#Unlike strings, lists are mutable, which means they can be changed.\n",
        "#Lists are created using a comma separated list of values surrounded by square brackets.\n",
        "#Lists hold a sequence of values (just like strings can hold a sequence of characters). \n",
        "#Lists are very easy to create, these are some of the ways to make lists\n",
        "emptyList = [ ]  \n",
        "\n",
        "\n"
      ],
      "execution_count": 0,
      "outputs": []
    },
    {
      "cell_type": "code",
      "metadata": {
        "id": "2WCOQQrnc2HD",
        "colab_type": "code",
        "outputId": "eefc51df-9348-4acd-f5c5-887c170bbd12",
        "colab": {
          "base_uri": "https://localhost:8080/",
          "height": 34
        }
      },
      "source": [
        "list1=['one,two,three,four,five']\n",
        "list1"
      ],
      "execution_count": 0,
      "outputs": [
        {
          "output_type": "execute_result",
          "data": {
            "text/plain": [
              "['one,two,three,four,five']"
            ]
          },
          "metadata": {
            "tags": []
          },
          "execution_count": 36
        }
      ]
    },
    {
      "cell_type": "code",
      "metadata": {
        "id": "01itAFIic7Sg",
        "colab_type": "code",
        "outputId": "3bcf2cf1-ed4d-4ce9-a5ce-6221eb5de2c8",
        "colab": {
          "base_uri": "https://localhost:8080/",
          "height": 34
        }
      },
      "source": [
        "numlist=[1,3,5,7,9]\n",
        "numlist"
      ],
      "execution_count": 0,
      "outputs": [
        {
          "output_type": "execute_result",
          "data": {
            "text/plain": [
              "[1, 3, 5, 7, 9]"
            ]
          },
          "metadata": {
            "tags": []
          },
          "execution_count": 38
        }
      ]
    },
    {
      "cell_type": "code",
      "metadata": {
        "id": "p4FtlLSSpVmW",
        "colab_type": "code",
        "outputId": "c3f519f9-62b6-4939-de87-35c79978a3a5",
        "colab": {
          "base_uri": "https://localhost:8080/",
          "height": 34
        }
      },
      "source": [
        "mixlist=['yellow','red','blue','green','black']\n",
        "mixlist"
      ],
      "execution_count": 0,
      "outputs": [
        {
          "output_type": "execute_result",
          "data": {
            "text/plain": [
              "['yellow', 'red', 'blue', 'green', 'black']"
            ]
          },
          "metadata": {
            "tags": []
          },
          "execution_count": 39
        }
      ]
    },
    {
      "cell_type": "code",
      "metadata": {
        "id": "UPR-skuapmj7",
        "colab_type": "code",
        "outputId": "34be2b15-34de-4159-b42d-8aac2d07c978",
        "colab": {
          "base_uri": "https://localhost:8080/",
          "height": 34
        }
      },
      "source": [
        "list=[\"1\",\"hello\",2,\"world\"]\n",
        "len(list)\n",
        "#list"
      ],
      "execution_count": 0,
      "outputs": [
        {
          "output_type": "execute_result",
          "data": {
            "text/plain": [
              "4"
            ]
          },
          "metadata": {
            "tags": []
          },
          "execution_count": 45
        }
      ]
    },
    {
      "cell_type": "code",
      "metadata": {
        "id": "quv6l3dgp3qE",
        "colab_type": "code",
        "colab": {}
      },
      "source": [
        "#List append will add the item at the end.\n",
        "#If you want to add in the beginning you can use \"insert\" function \n",
        "#Inserting \"Files\" in index 0 in the list variable\n",
        "list.insert(0,\"Files\")"
      ],
      "execution_count": 0,
      "outputs": []
    },
    {
      "cell_type": "code",
      "metadata": {
        "id": "WgXd6Fdtq-pM",
        "colab_type": "code",
        "outputId": "db1debd4-e6f6-4306-e5fb-7cf93c24febe",
        "colab": {
          "base_uri": "https://localhost:8080/",
          "height": 34
        }
      },
      "source": [
        "list"
      ],
      "execution_count": 0,
      "outputs": [
        {
          "output_type": "execute_result",
          "data": {
            "text/plain": [
              "['Files', '1', 'hello', 2, 'world']"
            ]
          },
          "metadata": {
            "tags": []
          },
          "execution_count": 48
        }
      ]
    },
    {
      "cell_type": "code",
      "metadata": {
        "id": "cnjKtfA_rHQX",
        "colab_type": "code",
        "outputId": "ddeda538-9fb2-49d1-c2da-fa6f93158467",
        "colab": {
          "base_uri": "https://localhost:8080/",
          "height": 34
        }
      },
      "source": [
        "#Inserting \"File\" in index 1 in the list variable \n",
        "list.insert(1,\"File\")\n",
        "list"
      ],
      "execution_count": 0,
      "outputs": [
        {
          "output_type": "execute_result",
          "data": {
            "text/plain": [
              "['Files', 'File', '1', 'hello', 2, 'world']"
            ]
          },
          "metadata": {
            "tags": []
          },
          "execution_count": 49
        }
      ]
    },
    {
      "cell_type": "code",
      "metadata": {
        "id": "-4glBhMnrQgs",
        "colab_type": "code",
        "outputId": "418ed037-9450-4279-b3b9-cc369a3dbbe1",
        "colab": {
          "base_uri": "https://localhost:8080/",
          "height": 263
        }
      },
      "source": [
        "#list.append(x) will add an element to the end of the list\n",
        "list.append(\"sreenath\")\n",
        "list"
      ],
      "execution_count": 0,
      "outputs": [
        {
          "output_type": "execute_result",
          "data": {
            "text/plain": [
              "['Files',\n",
              " 'File',\n",
              " '1',\n",
              " 'hello',\n",
              " 2,\n",
              " 'world',\n",
              " 'sreenath',\n",
              " 'sreenath',\n",
              " 'sreenath',\n",
              " 'sreenath',\n",
              " 'sreenath',\n",
              " 'sreenath',\n",
              " 'sreenath',\n",
              " 'sreenath']"
            ]
          },
          "metadata": {
            "tags": []
          },
          "execution_count": 59
        }
      ]
    },
    {
      "cell_type": "code",
      "metadata": {
        "id": "nTmNd8_Lsq7C",
        "colab_type": "code",
        "colab": {}
      },
      "source": [
        "#The syntax is: list.insert(x, y) \t#will add element y on the place before x\n",
        "#you can insert a value anywhere in the list\n",
        "list.insert(3,\"Apps\")\n"
      ],
      "execution_count": 0,
      "outputs": []
    },
    {
      "cell_type": "code",
      "metadata": {
        "id": "zpeWnT_1xpSz",
        "colab_type": "code",
        "outputId": "43a1b19c-d7e3-41bd-980d-dc817d8f0701",
        "colab": {
          "base_uri": "https://localhost:8080/",
          "height": 281
        }
      },
      "source": [
        "list"
      ],
      "execution_count": 0,
      "outputs": [
        {
          "output_type": "execute_result",
          "data": {
            "text/plain": [
              "['Files',\n",
              " 'File',\n",
              " '1',\n",
              " 'Apps',\n",
              " 'hello',\n",
              " 2,\n",
              " 'world',\n",
              " 'sreenath',\n",
              " 'sreenath',\n",
              " 'sreenath',\n",
              " 'sreenath',\n",
              " 'sreenath',\n",
              " 'sreenath',\n",
              " 'sreenath',\n",
              " 'sreenath']"
            ]
          },
          "metadata": {
            "tags": []
          },
          "execution_count": 61
        }
      ]
    },
    {
      "cell_type": "code",
      "metadata": {
        "id": "neDVIinuxqyn",
        "colab_type": "code",
        "colab": {}
      },
      "source": [
        "#List Remove\n",
        "#To remove an element's first occurrence in a list, simply use list.remove\n",
        "#The syntax is: list.remove(x)\n",
        "List=[\"Movies\",\"Music\",\"Files\",\"Documents\",\"Pictures\"]\n",
        "\n",
        "List.remove(\"Pictures\")"
      ],
      "execution_count": 0,
      "outputs": []
    },
    {
      "cell_type": "code",
      "metadata": {
        "id": "ycDn4VV1y8SE",
        "colab_type": "code",
        "outputId": "0268075d-346d-42f8-f5c0-f2d243c9f713",
        "colab": {
          "base_uri": "https://localhost:8080/",
          "height": 34
        }
      },
      "source": [
        "List"
      ],
      "execution_count": 0,
      "outputs": [
        {
          "output_type": "execute_result",
          "data": {
            "text/plain": [
              "['Movies', 'Music', 'Files', 'Documents']"
            ]
          },
          "metadata": {
            "tags": []
          },
          "execution_count": 63
        }
      ]
    },
    {
      "cell_type": "code",
      "metadata": {
        "id": "UJmDxQITy-L6",
        "colab_type": "code",
        "colab": {}
      },
      "source": [
        "#List Extend\n",
        "#combining two lists \n",
        "#The syntax is: list.extend(x) \t#will join the list with list x\n",
        "list2 = [\"Music2\", \"Movies2\"]\n",
        "list1.extend(list2)"
      ],
      "execution_count": 0,
      "outputs": []
    },
    {
      "cell_type": "code",
      "metadata": {
        "id": "59lI6DwP4AGM",
        "colab_type": "code",
        "outputId": "88a50412-7ee0-4888-eef6-f2647939a71b",
        "colab": {
          "base_uri": "https://localhost:8080/",
          "height": 34
        }
      },
      "source": [
        "list2"
      ],
      "execution_count": 0,
      "outputs": [
        {
          "output_type": "execute_result",
          "data": {
            "text/plain": [
              "['Music2', 'Movies2']"
            ]
          },
          "metadata": {
            "tags": []
          },
          "execution_count": 65
        }
      ]
    },
    {
      "cell_type": "code",
      "metadata": {
        "id": "T45F0igF4Cg3",
        "colab_type": "code",
        "outputId": "74e6d6f3-4c46-4fc0-ca24-3fb90d80cc6b",
        "colab": {
          "base_uri": "https://localhost:8080/",
          "height": 34
        }
      },
      "source": [
        "list1"
      ],
      "execution_count": 0,
      "outputs": [
        {
          "output_type": "execute_result",
          "data": {
            "text/plain": [
              "['one,two,three,four,five', 'Music2', 'Movies2']"
            ]
          },
          "metadata": {
            "tags": []
          },
          "execution_count": 67
        }
      ]
    },
    {
      "cell_type": "code",
      "metadata": {
        "id": "aMk_DISs4Pn_",
        "colab_type": "code",
        "outputId": "74b1c451-4101-4911-fc35-5742d97b1a9e",
        "colab": {
          "base_uri": "https://localhost:8080/",
          "height": 34
        }
      },
      "source": [
        "#Use del to remove item based on index position.\n",
        "del List[1]\n",
        "List"
      ],
      "execution_count": 0,
      "outputs": [
        {
          "output_type": "execute_result",
          "data": {
            "text/plain": [
              "['Movies', 'Files', 'Documents']"
            ]
          },
          "metadata": {
            "tags": []
          },
          "execution_count": 69
        }
      ]
    },
    {
      "cell_type": "code",
      "metadata": {
        "id": "KLe_KJY24uT3",
        "colab_type": "code",
        "outputId": "7297919b-f547-4a5c-cae5-8ca9f37d5fe3",
        "colab": {
          "base_uri": "https://localhost:8080/",
          "height": 52
        }
      },
      "source": [
        "#The keyword \"in\" can be used to test if an item is in a list.\n",
        "list4 = [\"red\", \"orange\", \"green\", \"blue\"]\n",
        "if \"red\" in list4:\n",
        "    print(\"Yeah\")\n",
        "    \n",
        "#Keyword \"not\" can be combined with \"in\".\n",
        "\n",
        "list5 = [\"red\", \"orange\", \"green\", \"blue\"]\n",
        "if \"purple\" not in list5:\n",
        "    print(\"Naaa\")"
      ],
      "execution_count": 0,
      "outputs": [
        {
          "output_type": "stream",
          "text": [
            "Yeah\n",
            "Naaa\n"
          ],
          "name": "stdout"
        }
      ]
    },
    {
      "cell_type": "code",
      "metadata": {
        "id": "1sZFDv4s5Y7F",
        "colab_type": "code",
        "outputId": "dcdfbf65-1652-467a-a005-e502e71bbc82",
        "colab": {
          "base_uri": "https://localhost:8080/",
          "height": 34
        }
      },
      "source": [
        "#List Reverse\n",
        "#The reverse method reverses the order of the entire list.\n",
        "L1=[\"One\",\"Two\",\"Three\",\"Four\",\"Five\"]\n",
        "print(L1)"
      ],
      "execution_count": 0,
      "outputs": [
        {
          "output_type": "stream",
          "text": [
            "['One', 'Two', 'Three', 'Four', 'Five']\n"
          ],
          "name": "stdout"
        }
      ]
    },
    {
      "cell_type": "code",
      "metadata": {
        "id": "8DHHKbZr6GIA",
        "colab_type": "code",
        "outputId": "548d43e8-ea71-4269-bb28-bd71e21b5e6f",
        "colab": {
          "base_uri": "https://localhost:8080/",
          "height": 105
        }
      },
      "source": [
        "#To print a reverse list \n",
        "for i in L1[::-1]:\n",
        "  print (i)"
      ],
      "execution_count": 0,
      "outputs": [
        {
          "output_type": "stream",
          "text": [
            "Five\n",
            "Four\n",
            "Three\n",
            "Two\n",
            "One\n"
          ],
          "name": "stdout"
        }
      ]
    },
    {
      "cell_type": "code",
      "metadata": {
        "id": "nv5XaFh26b1Z",
        "colab_type": "code",
        "outputId": "3f900b36-678f-4b62-9f3a-dd96f9afd7c0",
        "colab": {
          "base_uri": "https://localhost:8080/",
          "height": 34
        }
      },
      "source": [
        "#This is a one liner code to reverse the order \n",
        "L = [0,10,20,40]\n",
        "L.reverse()\n",
        "L"
      ],
      "execution_count": 0,
      "outputs": [
        {
          "output_type": "execute_result",
          "data": {
            "text/plain": [
              "[40, 20, 10, 0]"
            ]
          },
          "metadata": {
            "tags": []
          },
          "execution_count": 75
        }
      ]
    },
    {
      "cell_type": "code",
      "metadata": {
        "id": "Jiv1e60O8Epj",
        "colab_type": "code",
        "outputId": "3a37d593-cf0b-497a-b793-aa838635fc8e",
        "colab": {
          "base_uri": "https://localhost:8080/",
          "height": 132
        }
      },
      "source": [
        "#List Sorting\n",
        "#The easiest way to sort a List is with the sorted(list) function. \n",
        "#That takes a list and returns anew list with those elements in sorted order. \n",
        "#The original list is not changed. \n",
        "#The sorted() function can be customized though optional arguments.\n",
        "#The sorted() optional argument reverse=True, e.g. sorted(list, reverse=True), makes it sort backwards.\n",
        "numbers = [5, 1, 4, 3, 2, 6, 7, 9]\n",
        "print sorted(numbers)"
      ],
      "execution_count": 0,
      "outputs": [
        {
          "output_type": "error",
          "ename": "SyntaxError",
          "evalue": "ignored",
          "traceback": [
            "\u001b[0;36m  File \u001b[0;32m\"<ipython-input-76-ad2d5ff5774c>\"\u001b[0;36m, line \u001b[0;32m2\u001b[0m\n\u001b[0;31m    print sorted(numbers)\u001b[0m\n\u001b[0m               ^\u001b[0m\n\u001b[0;31mSyntaxError\u001b[0m\u001b[0;31m:\u001b[0m invalid syntax\n"
          ]
        }
      ]
    },
    {
      "cell_type": "code",
      "metadata": {
        "id": "LQOeXHgU8pII",
        "colab_type": "code",
        "colab": {}
      },
      "source": [
        ""
      ],
      "execution_count": 0,
      "outputs": []
    }
  ]
}